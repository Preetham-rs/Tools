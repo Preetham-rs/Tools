{
  "nbformat": 4,
  "nbformat_minor": 0,
  "metadata": {
    "colab": {
      "provenance": [],
      "authorship_tag": "ABX9TyNsFN8WJz+cuoW93GPYVGsz",
      "include_colab_link": true
    },
    "kernelspec": {
      "name": "python3",
      "display_name": "Python 3"
    },
    "language_info": {
      "name": "python"
    }
  },
  "cells": [
    {
      "cell_type": "markdown",
      "metadata": {
        "id": "view-in-github",
        "colab_type": "text"
      },
      "source": [
        "<a href=\"https://colab.research.google.com/github/Preetham-rs/Tools/blob/main/Postprocessing_Docking_Results.ipynb\" target=\"_parent\"><img src=\"https://colab.research.google.com/assets/colab-badge.svg\" alt=\"Open In Colab\"/></a>"
      ]
    },
    {
      "cell_type": "markdown",
      "source": [
        " **Post Processiong the Docking Data**\n",
        "\n",
        "\n",
        "*   delete_files_from_list\n",
        "*   rewrite_file_with_suffix\n",
        "*   truncate_files\n",
        "\n"
      ],
      "metadata": {
        "id": "Mxl7zK-EOP15"
      }
    },
    {
      "cell_type": "markdown",
      "source": [
        "> Delete files from list"
      ],
      "metadata": {
        "id": "vZ0AwtgURc3f"
      }
    },
    {
      "cell_type": "code",
      "source": [
        "import os\n",
        "\n",
        "def delete_files_from_list(file_list):\n",
        "    # Read the list of files from selected_molecules.txt\n",
        "    with open(file_list, \"r\") as file:\n",
        "        files_to_keep = {line.strip() for line in file.readlines()}\n",
        "\n",
        "    # Get a list of all files in the directory\n",
        "    all_files = os.listdir()\n",
        "\n",
        "    # Delete files not in the list\n",
        "    for file_name in all_files:\n",
        "        if file_name not in files_to_keep:\n",
        "            try:\n",
        "                # Delete the file\n",
        "                os.remove(file_name)\n",
        "                print(f\"Deleted: {file_name}\")\n",
        "            except Exception as e:\n",
        "                print(f\"Failed to delete {file_name}: {e}\")\n",
        "\n",
        "# Example usage:\n",
        "if __name__ == \"__main__\":\n",
        "    # Specify the path to the file containing the list of file names\n",
        "    selected_files_list = \"selected_molecules.txt\"\n",
        "\n",
        "    # Delete files not listed in selected_molecules.txt\n",
        "    delete_files_from_list(selected_files_list)\n"
      ],
      "metadata": {
        "id": "6QKrkLK8Ombd"
      },
      "execution_count": null,
      "outputs": []
    },
    {
      "cell_type": "markdown",
      "source": [
        "\n",
        "\n",
        "> Rewrite file with suffix\n",
        "\n"
      ],
      "metadata": {
        "id": "GPTjzBfuQ21a"
      }
    },
    {
      "cell_type": "code",
      "source": [
        "def rewrite_file_with_suffix(input_file):\n",
        "    try:\n",
        "        with open(input_file, 'r') as file:\n",
        "            lines = file.readlines()\n",
        "\n",
        "        with open(input_file, 'w') as file:\n",
        "            for line in lines:\n",
        "                filename, extension = line.strip().split('.')\n",
        "                new_line = filename + \"_out.\" + extension + \"\\n\"\n",
        "                file.write(new_line)\n",
        "\n",
        "        print(f\"File '{input_file}' has been rewritten with suffix '_out'.\")\n",
        "\n",
        "    except FileNotFoundError:\n",
        "        print(f\"File '{input_file}' not found.\")\n",
        "\n",
        "# Example usage:\n",
        "input_file = \"selected_molecules.txt\"\n",
        "rewrite_file_with_suffix(input_file)\n"
      ],
      "metadata": {
        "id": "KsIflwlvOmfG"
      },
      "execution_count": null,
      "outputs": []
    },
    {
      "cell_type": "markdown",
      "source": [
        ">Truncate files"
      ],
      "metadata": {
        "id": "5FzbreQWRkSQ"
      }
    },
    {
      "cell_type": "code",
      "source": [
        "import os\n",
        "\n",
        "def truncate_files(directory):\n",
        "    for filename in os.listdir(directory):\n",
        "        if filename.endswith(\"_out.pdbqt\"):\n",
        "            file_path = os.path.join(directory, filename)\n",
        "            with open(file_path, 'r') as file:\n",
        "                lines = file.readlines()\n",
        "\n",
        "            with open(file_path, 'w') as file:\n",
        "                for line in lines:\n",
        "                    file.write(line)\n",
        "                    if \"ENDMDL\" in line:\n",
        "                        break\n",
        "\n",
        "# Specify the directory containing .pdbqt files\n",
        "directory = \"C:/Users/path/pdbqt\"  # Replace backslashes with forward slashes\n",
        "truncate_files(directory)\n"
      ],
      "metadata": {
        "id": "RYhBKarKPOmi"
      },
      "execution_count": null,
      "outputs": []
    }
  ]
}